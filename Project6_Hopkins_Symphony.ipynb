{
  "nbformat": 4,
  "nbformat_minor": 0,
  "metadata": {
    "colab": {
      "provenance": []
    },
    "kernelspec": {
      "name": "python3",
      "display_name": "Python 3"
    },
    "language_info": {
      "name": "python"
    }
  },
  "cells": [
    {
      "cell_type": "markdown",
      "source": [
        "# DSCI 619: Deep Learning\n",
        "## Project 6\n",
        "Symphony Hopkins"
      ],
      "metadata": {
        "id": "LVYLyC6Q0Mgp"
      }
    },
    {
      "cell_type": "markdown",
      "source": [
        "### Introduction\n",
        "\n",
        "We are data scientists in an e-commerce company. We were given a Women’s Clothing E-Commerce dataset revolving around the reviews written by customers. This dataset contains the following columns:\n",
        "\n",
        "+ Clothing ID\n",
        "+ Age\n",
        "+ Title\n",
        "+ Review Text\n",
        "+ Rating\n",
        "+ Recommended IND\n",
        "+ Positive Feedback Count\n",
        "+ Division Name\n",
        "+ Department Name\n",
        "+ Class Name\n",
        "\n",
        "Our objective is to create a Recurrent Neural Network (RNN) model to forecast the **Recommended IND** based on **Reviews**, a new column concatenated from the other features. Then, we will evaluate the model's performance to determine whether we will recommend this model to the e-commerce company.\n",
        "\n",
        "Data Source: [Women's E-Commerce Clothing Reviews](https://www.kaggle.com/datasets/nicapotato/womens-ecommerce-clothing-reviews)"
      ],
      "metadata": {
        "id": "dx_1V7qK0W8V"
      }
    },
    {
      "cell_type": "markdown",
      "source": [
        "###1.Load the data, Womens Clothing E-Commerce Reviews.csv Download Womens Clothing E-Commerce Reviews.csv, into memory."
      ],
      "metadata": {
        "id": "ACcW_u5S1kme"
      }
    },
    {
      "cell_type": "markdown",
      "source": [
        "We will begin by connect the Google Drive and loading the dataset into the memory."
      ],
      "metadata": {
        "id": "gFlgKR7U2kAC"
      }
    },
    {
      "cell_type": "code",
      "source": [
        "#connecting to google drive\n",
        "from google.colab import drive \n",
        "drive.mount('/content/gdrive')\n",
        "\n",
        "#importing library\n",
        "import pandas as pd\n",
        "\n",
        "#loading data\n",
        "df = pd.read_csv('gdrive/My Drive/Colab Notebooks/Topic 6/Womens Clothing E-Commerce Reviews.csv')\n",
        "df.head()"
      ],
      "metadata": {
        "colab": {
          "base_uri": "https://localhost:8080/",
          "height": 372
        },
        "id": "aZEbmvOX2eoC",
        "outputId": "5c0bb546-b5e5-4040-bee1-f4439cf621f5"
      },
      "execution_count": 1,
      "outputs": [
        {
          "output_type": "stream",
          "name": "stdout",
          "text": [
            "Mounted at /content/gdrive\n"
          ]
        },
        {
          "output_type": "execute_result",
          "data": {
            "text/plain": [
              "   Unnamed: 0  Clothing ID  Age                    Title  \\\n",
              "0           0          767   33                      NaN   \n",
              "1           1         1080   34                      NaN   \n",
              "2           2         1077   60  Some major design flaws   \n",
              "3           3         1049   50         My favorite buy!   \n",
              "4           4          847   47         Flattering shirt   \n",
              "\n",
              "                                         Review Text  Rating  Recommended IND  \\\n",
              "0  Absolutely wonderful - silky and sexy and comf...       4                1   \n",
              "1  Love this dress!  it's sooo pretty.  i happene...       5                1   \n",
              "2  I had such high hopes for this dress and reall...       3                0   \n",
              "3  I love, love, love this jumpsuit. it's fun, fl...       5                1   \n",
              "4  This shirt is very flattering to all due to th...       5                1   \n",
              "\n",
              "   Positive Feedback Count   Division Name Department Name Class Name  \n",
              "0                        0       Initmates        Intimate  Intimates  \n",
              "1                        4         General         Dresses    Dresses  \n",
              "2                        0         General         Dresses    Dresses  \n",
              "3                        0  General Petite         Bottoms      Pants  \n",
              "4                        6         General            Tops    Blouses  "
            ],
            "text/html": [
              "\n",
              "  <div id=\"df-878370e5-6cdd-4eec-a157-7038771af541\">\n",
              "    <div class=\"colab-df-container\">\n",
              "      <div>\n",
              "<style scoped>\n",
              "    .dataframe tbody tr th:only-of-type {\n",
              "        vertical-align: middle;\n",
              "    }\n",
              "\n",
              "    .dataframe tbody tr th {\n",
              "        vertical-align: top;\n",
              "    }\n",
              "\n",
              "    .dataframe thead th {\n",
              "        text-align: right;\n",
              "    }\n",
              "</style>\n",
              "<table border=\"1\" class=\"dataframe\">\n",
              "  <thead>\n",
              "    <tr style=\"text-align: right;\">\n",
              "      <th></th>\n",
              "      <th>Unnamed: 0</th>\n",
              "      <th>Clothing ID</th>\n",
              "      <th>Age</th>\n",
              "      <th>Title</th>\n",
              "      <th>Review Text</th>\n",
              "      <th>Rating</th>\n",
              "      <th>Recommended IND</th>\n",
              "      <th>Positive Feedback Count</th>\n",
              "      <th>Division Name</th>\n",
              "      <th>Department Name</th>\n",
              "      <th>Class Name</th>\n",
              "    </tr>\n",
              "  </thead>\n",
              "  <tbody>\n",
              "    <tr>\n",
              "      <th>0</th>\n",
              "      <td>0</td>\n",
              "      <td>767</td>\n",
              "      <td>33</td>\n",
              "      <td>NaN</td>\n",
              "      <td>Absolutely wonderful - silky and sexy and comf...</td>\n",
              "      <td>4</td>\n",
              "      <td>1</td>\n",
              "      <td>0</td>\n",
              "      <td>Initmates</td>\n",
              "      <td>Intimate</td>\n",
              "      <td>Intimates</td>\n",
              "    </tr>\n",
              "    <tr>\n",
              "      <th>1</th>\n",
              "      <td>1</td>\n",
              "      <td>1080</td>\n",
              "      <td>34</td>\n",
              "      <td>NaN</td>\n",
              "      <td>Love this dress!  it's sooo pretty.  i happene...</td>\n",
              "      <td>5</td>\n",
              "      <td>1</td>\n",
              "      <td>4</td>\n",
              "      <td>General</td>\n",
              "      <td>Dresses</td>\n",
              "      <td>Dresses</td>\n",
              "    </tr>\n",
              "    <tr>\n",
              "      <th>2</th>\n",
              "      <td>2</td>\n",
              "      <td>1077</td>\n",
              "      <td>60</td>\n",
              "      <td>Some major design flaws</td>\n",
              "      <td>I had such high hopes for this dress and reall...</td>\n",
              "      <td>3</td>\n",
              "      <td>0</td>\n",
              "      <td>0</td>\n",
              "      <td>General</td>\n",
              "      <td>Dresses</td>\n",
              "      <td>Dresses</td>\n",
              "    </tr>\n",
              "    <tr>\n",
              "      <th>3</th>\n",
              "      <td>3</td>\n",
              "      <td>1049</td>\n",
              "      <td>50</td>\n",
              "      <td>My favorite buy!</td>\n",
              "      <td>I love, love, love this jumpsuit. it's fun, fl...</td>\n",
              "      <td>5</td>\n",
              "      <td>1</td>\n",
              "      <td>0</td>\n",
              "      <td>General Petite</td>\n",
              "      <td>Bottoms</td>\n",
              "      <td>Pants</td>\n",
              "    </tr>\n",
              "    <tr>\n",
              "      <th>4</th>\n",
              "      <td>4</td>\n",
              "      <td>847</td>\n",
              "      <td>47</td>\n",
              "      <td>Flattering shirt</td>\n",
              "      <td>This shirt is very flattering to all due to th...</td>\n",
              "      <td>5</td>\n",
              "      <td>1</td>\n",
              "      <td>6</td>\n",
              "      <td>General</td>\n",
              "      <td>Tops</td>\n",
              "      <td>Blouses</td>\n",
              "    </tr>\n",
              "  </tbody>\n",
              "</table>\n",
              "</div>\n",
              "      <button class=\"colab-df-convert\" onclick=\"convertToInteractive('df-878370e5-6cdd-4eec-a157-7038771af541')\"\n",
              "              title=\"Convert this dataframe to an interactive table.\"\n",
              "              style=\"display:none;\">\n",
              "        \n",
              "  <svg xmlns=\"http://www.w3.org/2000/svg\" height=\"24px\"viewBox=\"0 0 24 24\"\n",
              "       width=\"24px\">\n",
              "    <path d=\"M0 0h24v24H0V0z\" fill=\"none\"/>\n",
              "    <path d=\"M18.56 5.44l.94 2.06.94-2.06 2.06-.94-2.06-.94-.94-2.06-.94 2.06-2.06.94zm-11 1L8.5 8.5l.94-2.06 2.06-.94-2.06-.94L8.5 2.5l-.94 2.06-2.06.94zm10 10l.94 2.06.94-2.06 2.06-.94-2.06-.94-.94-2.06-.94 2.06-2.06.94z\"/><path d=\"M17.41 7.96l-1.37-1.37c-.4-.4-.92-.59-1.43-.59-.52 0-1.04.2-1.43.59L10.3 9.45l-7.72 7.72c-.78.78-.78 2.05 0 2.83L4 21.41c.39.39.9.59 1.41.59.51 0 1.02-.2 1.41-.59l7.78-7.78 2.81-2.81c.8-.78.8-2.07 0-2.86zM5.41 20L4 18.59l7.72-7.72 1.47 1.35L5.41 20z\"/>\n",
              "  </svg>\n",
              "      </button>\n",
              "      \n",
              "  <style>\n",
              "    .colab-df-container {\n",
              "      display:flex;\n",
              "      flex-wrap:wrap;\n",
              "      gap: 12px;\n",
              "    }\n",
              "\n",
              "    .colab-df-convert {\n",
              "      background-color: #E8F0FE;\n",
              "      border: none;\n",
              "      border-radius: 50%;\n",
              "      cursor: pointer;\n",
              "      display: none;\n",
              "      fill: #1967D2;\n",
              "      height: 32px;\n",
              "      padding: 0 0 0 0;\n",
              "      width: 32px;\n",
              "    }\n",
              "\n",
              "    .colab-df-convert:hover {\n",
              "      background-color: #E2EBFA;\n",
              "      box-shadow: 0px 1px 2px rgba(60, 64, 67, 0.3), 0px 1px 3px 1px rgba(60, 64, 67, 0.15);\n",
              "      fill: #174EA6;\n",
              "    }\n",
              "\n",
              "    [theme=dark] .colab-df-convert {\n",
              "      background-color: #3B4455;\n",
              "      fill: #D2E3FC;\n",
              "    }\n",
              "\n",
              "    [theme=dark] .colab-df-convert:hover {\n",
              "      background-color: #434B5C;\n",
              "      box-shadow: 0px 1px 3px 1px rgba(0, 0, 0, 0.15);\n",
              "      filter: drop-shadow(0px 1px 2px rgba(0, 0, 0, 0.3));\n",
              "      fill: #FFFFFF;\n",
              "    }\n",
              "  </style>\n",
              "\n",
              "      <script>\n",
              "        const buttonEl =\n",
              "          document.querySelector('#df-878370e5-6cdd-4eec-a157-7038771af541 button.colab-df-convert');\n",
              "        buttonEl.style.display =\n",
              "          google.colab.kernel.accessAllowed ? 'block' : 'none';\n",
              "\n",
              "        async function convertToInteractive(key) {\n",
              "          const element = document.querySelector('#df-878370e5-6cdd-4eec-a157-7038771af541');\n",
              "          const dataTable =\n",
              "            await google.colab.kernel.invokeFunction('convertToInteractive',\n",
              "                                                     [key], {});\n",
              "          if (!dataTable) return;\n",
              "\n",
              "          const docLinkHtml = 'Like what you see? Visit the ' +\n",
              "            '<a target=\"_blank\" href=https://colab.research.google.com/notebooks/data_table.ipynb>data table notebook</a>'\n",
              "            + ' to learn more about interactive tables.';\n",
              "          element.innerHTML = '';\n",
              "          dataTable['output_type'] = 'display_data';\n",
              "          await google.colab.output.renderOutput(dataTable, element);\n",
              "          const docLink = document.createElement('div');\n",
              "          docLink.innerHTML = docLinkHtml;\n",
              "          element.appendChild(docLink);\n",
              "        }\n",
              "      </script>\n",
              "    </div>\n",
              "  </div>\n",
              "  "
            ]
          },
          "metadata": {},
          "execution_count": 1
        }
      ]
    },
    {
      "cell_type": "markdown",
      "source": [
        "Let's check the shape of the dataframe."
      ],
      "metadata": {
        "id": "ULAjIJ5SBx6w"
      }
    },
    {
      "cell_type": "code",
      "source": [
        "#checking shape\n",
        "df.shape"
      ],
      "metadata": {
        "colab": {
          "base_uri": "https://localhost:8080/"
        },
        "id": "_er6UuAqB0sW",
        "outputId": "d4b6e9ee-f9b4-4a23-d183-733c33e8de59"
      },
      "execution_count": 2,
      "outputs": [
        {
          "output_type": "execute_result",
          "data": {
            "text/plain": [
              "(23486, 11)"
            ]
          },
          "metadata": {},
          "execution_count": 2
        }
      ]
    },
    {
      "cell_type": "markdown",
      "source": [
        "It's good practice to check the data types so we will do so."
      ],
      "metadata": {
        "id": "EqwBYrqL7C8c"
      }
    },
    {
      "cell_type": "code",
      "source": [
        "#checking data types\n",
        "df.dtypes"
      ],
      "metadata": {
        "colab": {
          "base_uri": "https://localhost:8080/"
        },
        "id": "77v872yO7ai5",
        "outputId": "ee53f056-7937-4952-f1a9-4b3d9f98a014"
      },
      "execution_count": 3,
      "outputs": [
        {
          "output_type": "execute_result",
          "data": {
            "text/plain": [
              "Unnamed: 0                  int64\n",
              "Clothing ID                 int64\n",
              "Age                         int64\n",
              "Title                      object\n",
              "Review Text                object\n",
              "Rating                      int64\n",
              "Recommended IND             int64\n",
              "Positive Feedback Count     int64\n",
              "Division Name              object\n",
              "Department Name            object\n",
              "Class Name                 object\n",
              "dtype: object"
            ]
          },
          "metadata": {},
          "execution_count": 3
        }
      ]
    },
    {
      "cell_type": "markdown",
      "source": [
        "Now we will check for missing values."
      ],
      "metadata": {
        "id": "00z92gdH7e2q"
      }
    },
    {
      "cell_type": "code",
      "source": [
        "#checking for missing values\n",
        "df.isnull().sum(axis = 0)"
      ],
      "metadata": {
        "colab": {
          "base_uri": "https://localhost:8080/"
        },
        "id": "ES-JStPO7mbz",
        "outputId": "a1f36e67-7879-4530-9f84-d1728ae4aaf2"
      },
      "execution_count": 4,
      "outputs": [
        {
          "output_type": "execute_result",
          "data": {
            "text/plain": [
              "Unnamed: 0                    0\n",
              "Clothing ID                   0\n",
              "Age                           0\n",
              "Title                      3810\n",
              "Review Text                 845\n",
              "Rating                        0\n",
              "Recommended IND               0\n",
              "Positive Feedback Count       0\n",
              "Division Name                14\n",
              "Department Name              14\n",
              "Class Name                   14\n",
              "dtype: int64"
            ]
          },
          "metadata": {},
          "execution_count": 4
        }
      ]
    },
    {
      "cell_type": "markdown",
      "source": [
        "As we can see, we have missing data in the **Title, Review Text, Division Name, Department Name, and Class Name** columns. We will deal with this issue when we concatenate the columns in the next step."
      ],
      "metadata": {
        "id": "Iin3SGiq794W"
      }
    },
    {
      "cell_type": "markdown",
      "source": [
        "###2.Please concatenate the Title, Review Text, Division Name, Department Name, and Class Name as a new feature of Reviews.\n"
      ],
      "metadata": {
        "id": "cvSFCPuY2EwC"
      }
    },
    {
      "cell_type": "markdown",
      "source": [
        "Next, we will concatenate the Title, Review Text, Division Name, Department Name, and Class Name into one new feature column called **Reviews.** During this step, we will remove the missing values ('NaN') because they won't help us in forecasting the Recommended IND."
      ],
      "metadata": {
        "id": "JbCkWxEu5Cq8"
      }
    },
    {
      "cell_type": "code",
      "source": [
        "#concatenating columns\n",
        "review_cols = ['Title', \n",
        "               'Review Text', \n",
        "               'Division Name', \n",
        "               'Department Name',\n",
        "               'Class Name']\n",
        "#removing missing values using .fillna(\"\")\n",
        "df['Reviews'] = df[review_cols].fillna(\"\").apply(lambda row: ' '.join(row.values.astype(str)), axis=1)"
      ],
      "metadata": {
        "id": "IQ9f1tCe5SKl"
      },
      "execution_count": 5,
      "outputs": []
    },
    {
      "cell_type": "markdown",
      "source": [
        "Let's check if it worked."
      ],
      "metadata": {
        "id": "PmIOyKuC5s16"
      }
    },
    {
      "cell_type": "code",
      "source": [
        "#checking data frame for new Reviews column\n",
        "df.head()"
      ],
      "metadata": {
        "colab": {
          "base_uri": "https://localhost:8080/",
          "height": 354
        },
        "id": "tpgtegPe5vvE",
        "outputId": "53d2eab3-d9e5-4164-e8cd-bed12ff56909"
      },
      "execution_count": 6,
      "outputs": [
        {
          "output_type": "execute_result",
          "data": {
            "text/plain": [
              "   Unnamed: 0  Clothing ID  Age                    Title  \\\n",
              "0           0          767   33                      NaN   \n",
              "1           1         1080   34                      NaN   \n",
              "2           2         1077   60  Some major design flaws   \n",
              "3           3         1049   50         My favorite buy!   \n",
              "4           4          847   47         Flattering shirt   \n",
              "\n",
              "                                         Review Text  Rating  Recommended IND  \\\n",
              "0  Absolutely wonderful - silky and sexy and comf...       4                1   \n",
              "1  Love this dress!  it's sooo pretty.  i happene...       5                1   \n",
              "2  I had such high hopes for this dress and reall...       3                0   \n",
              "3  I love, love, love this jumpsuit. it's fun, fl...       5                1   \n",
              "4  This shirt is very flattering to all due to th...       5                1   \n",
              "\n",
              "   Positive Feedback Count   Division Name Department Name Class Name  \\\n",
              "0                        0       Initmates        Intimate  Intimates   \n",
              "1                        4         General         Dresses    Dresses   \n",
              "2                        0         General         Dresses    Dresses   \n",
              "3                        0  General Petite         Bottoms      Pants   \n",
              "4                        6         General            Tops    Blouses   \n",
              "\n",
              "                                             Reviews  \n",
              "0   Absolutely wonderful - silky and sexy and com...  \n",
              "1   Love this dress!  it's sooo pretty.  i happen...  \n",
              "2  Some major design flaws I had such high hopes ...  \n",
              "3  My favorite buy! I love, love, love this jumps...  \n",
              "4  Flattering shirt This shirt is very flattering...  "
            ],
            "text/html": [
              "\n",
              "  <div id=\"df-924bdf79-578e-4fcf-b87b-dffc87cde406\">\n",
              "    <div class=\"colab-df-container\">\n",
              "      <div>\n",
              "<style scoped>\n",
              "    .dataframe tbody tr th:only-of-type {\n",
              "        vertical-align: middle;\n",
              "    }\n",
              "\n",
              "    .dataframe tbody tr th {\n",
              "        vertical-align: top;\n",
              "    }\n",
              "\n",
              "    .dataframe thead th {\n",
              "        text-align: right;\n",
              "    }\n",
              "</style>\n",
              "<table border=\"1\" class=\"dataframe\">\n",
              "  <thead>\n",
              "    <tr style=\"text-align: right;\">\n",
              "      <th></th>\n",
              "      <th>Unnamed: 0</th>\n",
              "      <th>Clothing ID</th>\n",
              "      <th>Age</th>\n",
              "      <th>Title</th>\n",
              "      <th>Review Text</th>\n",
              "      <th>Rating</th>\n",
              "      <th>Recommended IND</th>\n",
              "      <th>Positive Feedback Count</th>\n",
              "      <th>Division Name</th>\n",
              "      <th>Department Name</th>\n",
              "      <th>Class Name</th>\n",
              "      <th>Reviews</th>\n",
              "    </tr>\n",
              "  </thead>\n",
              "  <tbody>\n",
              "    <tr>\n",
              "      <th>0</th>\n",
              "      <td>0</td>\n",
              "      <td>767</td>\n",
              "      <td>33</td>\n",
              "      <td>NaN</td>\n",
              "      <td>Absolutely wonderful - silky and sexy and comf...</td>\n",
              "      <td>4</td>\n",
              "      <td>1</td>\n",
              "      <td>0</td>\n",
              "      <td>Initmates</td>\n",
              "      <td>Intimate</td>\n",
              "      <td>Intimates</td>\n",
              "      <td>Absolutely wonderful - silky and sexy and com...</td>\n",
              "    </tr>\n",
              "    <tr>\n",
              "      <th>1</th>\n",
              "      <td>1</td>\n",
              "      <td>1080</td>\n",
              "      <td>34</td>\n",
              "      <td>NaN</td>\n",
              "      <td>Love this dress!  it's sooo pretty.  i happene...</td>\n",
              "      <td>5</td>\n",
              "      <td>1</td>\n",
              "      <td>4</td>\n",
              "      <td>General</td>\n",
              "      <td>Dresses</td>\n",
              "      <td>Dresses</td>\n",
              "      <td>Love this dress!  it's sooo pretty.  i happen...</td>\n",
              "    </tr>\n",
              "    <tr>\n",
              "      <th>2</th>\n",
              "      <td>2</td>\n",
              "      <td>1077</td>\n",
              "      <td>60</td>\n",
              "      <td>Some major design flaws</td>\n",
              "      <td>I had such high hopes for this dress and reall...</td>\n",
              "      <td>3</td>\n",
              "      <td>0</td>\n",
              "      <td>0</td>\n",
              "      <td>General</td>\n",
              "      <td>Dresses</td>\n",
              "      <td>Dresses</td>\n",
              "      <td>Some major design flaws I had such high hopes ...</td>\n",
              "    </tr>\n",
              "    <tr>\n",
              "      <th>3</th>\n",
              "      <td>3</td>\n",
              "      <td>1049</td>\n",
              "      <td>50</td>\n",
              "      <td>My favorite buy!</td>\n",
              "      <td>I love, love, love this jumpsuit. it's fun, fl...</td>\n",
              "      <td>5</td>\n",
              "      <td>1</td>\n",
              "      <td>0</td>\n",
              "      <td>General Petite</td>\n",
              "      <td>Bottoms</td>\n",
              "      <td>Pants</td>\n",
              "      <td>My favorite buy! I love, love, love this jumps...</td>\n",
              "    </tr>\n",
              "    <tr>\n",
              "      <th>4</th>\n",
              "      <td>4</td>\n",
              "      <td>847</td>\n",
              "      <td>47</td>\n",
              "      <td>Flattering shirt</td>\n",
              "      <td>This shirt is very flattering to all due to th...</td>\n",
              "      <td>5</td>\n",
              "      <td>1</td>\n",
              "      <td>6</td>\n",
              "      <td>General</td>\n",
              "      <td>Tops</td>\n",
              "      <td>Blouses</td>\n",
              "      <td>Flattering shirt This shirt is very flattering...</td>\n",
              "    </tr>\n",
              "  </tbody>\n",
              "</table>\n",
              "</div>\n",
              "      <button class=\"colab-df-convert\" onclick=\"convertToInteractive('df-924bdf79-578e-4fcf-b87b-dffc87cde406')\"\n",
              "              title=\"Convert this dataframe to an interactive table.\"\n",
              "              style=\"display:none;\">\n",
              "        \n",
              "  <svg xmlns=\"http://www.w3.org/2000/svg\" height=\"24px\"viewBox=\"0 0 24 24\"\n",
              "       width=\"24px\">\n",
              "    <path d=\"M0 0h24v24H0V0z\" fill=\"none\"/>\n",
              "    <path d=\"M18.56 5.44l.94 2.06.94-2.06 2.06-.94-2.06-.94-.94-2.06-.94 2.06-2.06.94zm-11 1L8.5 8.5l.94-2.06 2.06-.94-2.06-.94L8.5 2.5l-.94 2.06-2.06.94zm10 10l.94 2.06.94-2.06 2.06-.94-2.06-.94-.94-2.06-.94 2.06-2.06.94z\"/><path d=\"M17.41 7.96l-1.37-1.37c-.4-.4-.92-.59-1.43-.59-.52 0-1.04.2-1.43.59L10.3 9.45l-7.72 7.72c-.78.78-.78 2.05 0 2.83L4 21.41c.39.39.9.59 1.41.59.51 0 1.02-.2 1.41-.59l7.78-7.78 2.81-2.81c.8-.78.8-2.07 0-2.86zM5.41 20L4 18.59l7.72-7.72 1.47 1.35L5.41 20z\"/>\n",
              "  </svg>\n",
              "      </button>\n",
              "      \n",
              "  <style>\n",
              "    .colab-df-container {\n",
              "      display:flex;\n",
              "      flex-wrap:wrap;\n",
              "      gap: 12px;\n",
              "    }\n",
              "\n",
              "    .colab-df-convert {\n",
              "      background-color: #E8F0FE;\n",
              "      border: none;\n",
              "      border-radius: 50%;\n",
              "      cursor: pointer;\n",
              "      display: none;\n",
              "      fill: #1967D2;\n",
              "      height: 32px;\n",
              "      padding: 0 0 0 0;\n",
              "      width: 32px;\n",
              "    }\n",
              "\n",
              "    .colab-df-convert:hover {\n",
              "      background-color: #E2EBFA;\n",
              "      box-shadow: 0px 1px 2px rgba(60, 64, 67, 0.3), 0px 1px 3px 1px rgba(60, 64, 67, 0.15);\n",
              "      fill: #174EA6;\n",
              "    }\n",
              "\n",
              "    [theme=dark] .colab-df-convert {\n",
              "      background-color: #3B4455;\n",
              "      fill: #D2E3FC;\n",
              "    }\n",
              "\n",
              "    [theme=dark] .colab-df-convert:hover {\n",
              "      background-color: #434B5C;\n",
              "      box-shadow: 0px 1px 3px 1px rgba(0, 0, 0, 0.15);\n",
              "      filter: drop-shadow(0px 1px 2px rgba(0, 0, 0, 0.3));\n",
              "      fill: #FFFFFF;\n",
              "    }\n",
              "  </style>\n",
              "\n",
              "      <script>\n",
              "        const buttonEl =\n",
              "          document.querySelector('#df-924bdf79-578e-4fcf-b87b-dffc87cde406 button.colab-df-convert');\n",
              "        buttonEl.style.display =\n",
              "          google.colab.kernel.accessAllowed ? 'block' : 'none';\n",
              "\n",
              "        async function convertToInteractive(key) {\n",
              "          const element = document.querySelector('#df-924bdf79-578e-4fcf-b87b-dffc87cde406');\n",
              "          const dataTable =\n",
              "            await google.colab.kernel.invokeFunction('convertToInteractive',\n",
              "                                                     [key], {});\n",
              "          if (!dataTable) return;\n",
              "\n",
              "          const docLinkHtml = 'Like what you see? Visit the ' +\n",
              "            '<a target=\"_blank\" href=https://colab.research.google.com/notebooks/data_table.ipynb>data table notebook</a>'\n",
              "            + ' to learn more about interactive tables.';\n",
              "          element.innerHTML = '';\n",
              "          dataTable['output_type'] = 'display_data';\n",
              "          await google.colab.output.renderOutput(dataTable, element);\n",
              "          const docLink = document.createElement('div');\n",
              "          docLink.innerHTML = docLinkHtml;\n",
              "          element.appendChild(docLink);\n",
              "        }\n",
              "      </script>\n",
              "    </div>\n",
              "  </div>\n",
              "  "
            ]
          },
          "metadata": {},
          "execution_count": 6
        }
      ]
    },
    {
      "cell_type": "markdown",
      "source": [
        "###3.Please clean the new feature of Reviews using regular expressions.\n"
      ],
      "metadata": {
        "id": "hfxsKC3k2GLJ"
      }
    },
    {
      "cell_type": "markdown",
      "source": [
        "Next, we will will clean the new feature column, Reviews, using regular expressions. This process will include...\n",
        "+ Remove all special characters, punctuation and spaces\n",
        "+ Remove all words with length <=2\n"
      ],
      "metadata": {
        "id": "BZLGI7G26JUF"
      }
    },
    {
      "cell_type": "code",
      "source": [
        "#importing library\n",
        "import re #regular expression for handling texts very efficiently\n",
        "\n",
        "#cleaning the Reviews column using regular expressions\n",
        "#removing punctuation and spaces; replacing special characters,<br /> in the file\n",
        "df['Reviews'] = df['Reviews'].apply(lambda x: re.sub(r'[^A-Za-z0-9]+',' ',x))\n",
        "df['Reviews'] = df['Reviews'].apply(lambda x: re.sub(r\"<br />\", \" \", x))\n",
        "# removing words with a length less than or equal to 2\n",
        "df['Reviews'] = df['Reviews'].apply(lambda x: re.sub(r'\\b[a-zA-Z]{1,2}\\b', '', x))"
      ],
      "metadata": {
        "id": "nQtuIkKC6RII"
      },
      "execution_count": 7,
      "outputs": []
    },
    {
      "cell_type": "markdown",
      "source": [
        "Now, let's check the Reviews column."
      ],
      "metadata": {
        "id": "McbWPCrZ-E2l"
      }
    },
    {
      "cell_type": "code",
      "source": [
        "df['Reviews'].head()"
      ],
      "metadata": {
        "colab": {
          "base_uri": "https://localhost:8080/"
        },
        "id": "WP9YYUUO-J4K",
        "outputId": "5376b41b-be56-4d64-e27d-16c7f1be1f93"
      },
      "execution_count": 8,
      "outputs": [
        {
          "output_type": "execute_result",
          "data": {
            "text/plain": [
              "0     Absolutely wonderful silky and sexy and comfo...\n",
              "1     Love this dress   sooo pretty  happened  find...\n",
              "2    Some major design flaws  had such high hopes f...\n",
              "3     favorite buy  love love love this jumpsuit   ...\n",
              "4    Flattering shirt This shirt  very flattering  ...\n",
              "Name: Reviews, dtype: object"
            ]
          },
          "metadata": {},
          "execution_count": 8
        }
      ]
    },
    {
      "cell_type": "markdown",
      "source": [
        "###4.Build an RNN model to forecast the Recommended IND based on Reviews using TensorFlow.\n"
      ],
      "metadata": {
        "id": "1LHoUb2y2IBr"
      }
    },
    {
      "cell_type": "markdown",
      "source": [
        "To create the RNN model, we need to split the data into training and test data sets. We will perform an 80-20 split."
      ],
      "metadata": {
        "id": "KdGDlVismhxO"
      }
    },
    {
      "cell_type": "code",
      "source": [
        "#importing library\n",
        "from sklearn.model_selection import train_test_split\n",
        "\n",
        "#performing train-test split\n",
        "X = df['Reviews'].values\n",
        "y = df['Recommended IND'].values\n",
        "X_train, X_test, y_train, y_test = train_test_split(X, y, stratify=y, test_size=0.2)\n",
        "\n",
        "#printing shape\n",
        "print(f'X_train size={X_train.shape}; X_test size  ={X_test.shape}')"
      ],
      "metadata": {
        "colab": {
          "base_uri": "https://localhost:8080/"
        },
        "id": "cxZtCZgrnOT9",
        "outputId": "f799e1bb-0880-4847-98c8-7d5b95bd1881"
      },
      "execution_count": 11,
      "outputs": [
        {
          "output_type": "stream",
          "name": "stdout",
          "text": [
            "X_train size=(18788,); X_test size  =(4698,)\n"
          ]
        }
      ]
    },
    {
      "cell_type": "markdown",
      "source": [
        "Next, we will convert the text to numerical values using TextVectorization."
      ],
      "metadata": {
        "id": "NhqZOk19opPh"
      }
    },
    {
      "cell_type": "code",
      "source": [
        "#importing library\n",
        "import tensorflow as tf\n",
        "import numpy as np\n",
        "\n",
        "#specifying the vocab size\n",
        "VOCAB_SIZE = 1000\n",
        "#performing textvectorization\n",
        "encoder = tf.keras.layers.experimental.preprocessing.TextVectorization(\n",
        "    max_tokens=VOCAB_SIZE)\n",
        "\n",
        "#fitting the state of the preprocessing layer to the dataset.\n",
        "encoder.adapt(X_train)"
      ],
      "metadata": {
        "id": "4_iov_gkoxts"
      },
      "execution_count": 12,
      "outputs": []
    },
    {
      "cell_type": "markdown",
      "source": [
        "Now, we will build the RNN model with the following architecture:\n",
        "+ Layer 1: Embedding Layer\n",
        "+ Layer 2: GRU Layer\n",
        "+ Layer 3: LSTM Layer\n",
        "+ Layer 4-6: Classification Layers (w/128, 64, 1 Neurons Respectively)"
      ],
      "metadata": {
        "id": "bqKEzBd_pltB"
      }
    },
    {
      "cell_type": "code",
      "source": [
        "#building RNN model\n",
        "model = tf.keras.Sequential([\n",
        "    #performing textvectorization which converts the raw texts to indices/integers\n",
        "    encoder, \n",
        "    #embedding layer to convert the indices to numerical vectors\n",
        "    tf.keras.layers.Embedding(\n",
        "        input_dim=len(encoder.get_vocabulary()),\n",
        "        output_dim=64,\n",
        "        #using masking to handle the variable sequence lengths\n",
        "        mask_zero=True),\n",
        "    #GRU layer; the default recurrent_activation = sigmoid\n",
        "    tf.keras.layers.GRU(256, return_sequences=True),\n",
        "    #LSTM layer\n",
        "    tf.keras.layers.Bidirectional(tf.keras.layers.LSTM(256)),\n",
        "    #classification layer 1\n",
        "    tf.keras.layers.Dense(128, activation='relu'),\n",
        "    #classification layer 2\n",
        "    tf.keras.layers.Dense(64, activation='relu'),\n",
        "    #classification layer 3; must be equal to 1 since this is the output layer\n",
        "    tf.keras.layers.Dense(1, activation=None)\n",
        "])"
      ],
      "metadata": {
        "id": "FvSOQCoKrvHu"
      },
      "execution_count": 13,
      "outputs": []
    },
    {
      "cell_type": "markdown",
      "source": [
        "Let's look at the model summary."
      ],
      "metadata": {
        "id": "eOz3AhcXu5hI"
      }
    },
    {
      "cell_type": "code",
      "source": [
        "#summarizing model\n",
        "model.summary()"
      ],
      "metadata": {
        "colab": {
          "base_uri": "https://localhost:8080/"
        },
        "id": "t-K9bWeNu0Tz",
        "outputId": "680cf187-7511-4bd5-8e4c-7ed14d8a7f5a"
      },
      "execution_count": 14,
      "outputs": [
        {
          "output_type": "stream",
          "name": "stdout",
          "text": [
            "Model: \"sequential\"\n",
            "_________________________________________________________________\n",
            " Layer (type)                Output Shape              Param #   \n",
            "=================================================================\n",
            " text_vectorization_1 (TextV  (None, None)             0         \n",
            " ectorization)                                                   \n",
            "                                                                 \n",
            " embedding (Embedding)       (None, None, 64)          64000     \n",
            "                                                                 \n",
            " gru (GRU)                   (None, None, 256)         247296    \n",
            "                                                                 \n",
            " bidirectional (Bidirectiona  (None, 512)              1050624   \n",
            " l)                                                              \n",
            "                                                                 \n",
            " dense (Dense)               (None, 128)               65664     \n",
            "                                                                 \n",
            " dense_1 (Dense)             (None, 64)                8256      \n",
            "                                                                 \n",
            " dense_2 (Dense)             (None, 1)                 65        \n",
            "                                                                 \n",
            "=================================================================\n",
            "Total params: 1,435,905\n",
            "Trainable params: 1,435,905\n",
            "Non-trainable params: 0\n",
            "_________________________________________________________________\n"
          ]
        }
      ]
    },
    {
      "cell_type": "markdown",
      "source": [
        "We will implement early stopping since we have 1,435,905 parameters. The training will stop if the validation accuracy does not improve for 3 epochs."
      ],
      "metadata": {
        "id": "mhWF3fPsvC4X"
      }
    },
    {
      "cell_type": "code",
      "source": [
        "#adding early stopping; if the validation accuracy does not improve for 3 epochs, we will stop training\n",
        "callback = tf.keras.callbacks.EarlyStopping(monitor='val_accuracy', patience= 3)"
      ],
      "metadata": {
        "id": "TDUehQ5LvJjr"
      },
      "execution_count": 15,
      "outputs": []
    },
    {
      "cell_type": "markdown",
      "source": [
        "Next, let's configure the model. We will use the **adam** optimizer. We will also use **SparseCategoricalCrossentropy** since the Recommended IND column is encoded as integers (0 = Not Recommended, 1 = Recommended). Also, since we set the **activation=None**, we have to set **from_logits=True**. We will evaluate the model on it's accuracy.\n"
      ],
      "metadata": {
        "id": "35vpa5szt-k0"
      }
    },
    {
      "cell_type": "code",
      "source": [
        "#configuring the model; since activation=None we must put from_logits=True\n",
        "model.compile(loss=tf.keras.losses.BinaryCrossentropy(from_logits=True),\n",
        "              optimizer=tf.keras.optimizers.Adam(1e-4),\n",
        "              metrics=['accuracy']) # we will evaluate the model using accuracy"
      ],
      "metadata": {
        "id": "qpf1fBdduCLx"
      },
      "execution_count": 16,
      "outputs": []
    },
    {
      "cell_type": "markdown",
      "source": [
        "Finally, we can train the model.\n"
      ],
      "metadata": {
        "id": "GfvI4SsgwKQj"
      }
    },
    {
      "cell_type": "code",
      "source": [
        "%%time\n",
        "#training the model and storing the history in a variable to plot later\n",
        "#we will make the number of epochs short since training models for image classification can run for a long time\n",
        "history = model.fit(x=X_train, \n",
        "                    y=y_train,\n",
        "                    epochs=10, #this can be time consuming so we will only run this for 10 epochs\n",
        "                    validation_data=(X_test,y_test), \n",
        "                    callbacks=[callback], \n",
        "                    verbose = 1)"
      ],
      "metadata": {
        "colab": {
          "base_uri": "https://localhost:8080/"
        },
        "id": "Di00hfcLwN2_",
        "outputId": "a82601ea-ad0e-480b-95ac-7f20464be521"
      },
      "execution_count": 19,
      "outputs": [
        {
          "output_type": "stream",
          "name": "stdout",
          "text": [
            "Epoch 1/10\n",
            "588/588 [==============================] - 998s 2s/step - loss: 0.2982 - accuracy: 0.8667 - val_loss: 0.2294 - val_accuracy: 0.9053\n",
            "Epoch 2/10\n",
            "588/588 [==============================] - 888s 2s/step - loss: 0.2097 - accuracy: 0.9083 - val_loss: 0.2122 - val_accuracy: 0.9061\n",
            "Epoch 3/10\n",
            "588/588 [==============================] - 894s 2s/step - loss: 0.2005 - accuracy: 0.9147 - val_loss: 0.2178 - val_accuracy: 0.9014\n",
            "Epoch 4/10\n",
            "588/588 [==============================] - 891s 2s/step - loss: 0.1918 - accuracy: 0.9171 - val_loss: 0.2115 - val_accuracy: 0.9044\n",
            "Epoch 5/10\n",
            "588/588 [==============================] - 911s 2s/step - loss: 0.1879 - accuracy: 0.9202 - val_loss: 0.2116 - val_accuracy: 0.9053\n",
            "CPU times: user 1h 50min 31s, sys: 3min 47s, total: 1h 54min 18s\n",
            "Wall time: 1h 16min 22s\n"
          ]
        }
      ]
    },
    {
      "cell_type": "markdown",
      "source": [
        "Now, let's look at the model architecture."
      ],
      "metadata": {
        "id": "oNhf6ZtxxKjY"
      }
    },
    {
      "cell_type": "code",
      "source": [
        "#displaying model architecture\n",
        "tf.keras.utils.plot_model(model, show_shapes=True)"
      ],
      "metadata": {
        "colab": {
          "base_uri": "https://localhost:8080/",
          "height": 865
        },
        "id": "-hDVDUiBxQor",
        "outputId": "26114292-31f1-4042-f6df-d56db7417229"
      },
      "execution_count": 20,
      "outputs": [
        {
          "output_type": "execute_result",
          "data": {
            "image/png": "[encoded data removed]",
            "text/plain": [
              "<IPython.core.display.Image object>"
            ]
          },
          "metadata": {},
          "execution_count": 20
        }
      ]
    },
    {
      "cell_type": "markdown",
      "source": [
        "###5.Evaluate the model and check the model fit. Do you recommend this model? Please justify your answer."
      ],
      "metadata": {
        "id": "etd3-bxQ2JTs"
      }
    },
    {
      "cell_type": "markdown",
      "source": [
        "Let's evaluate the model by visualizing history."
      ],
      "metadata": {
        "id": "epmiboGgxlF-"
      }
    },
    {
      "cell_type": "code",
      "source": [
        "#importing libraries\n",
        "import seaborn as sns\n",
        "import matplotlib.pyplot as plt\n",
        "\n",
        "#visualizing training history\n",
        "train_history = pd.DataFrame(history.history)\n",
        "train_history['epoch'] = history.epoch\n",
        "#plotting train loss\n",
        "sns.lineplot(x='epoch', y ='loss', data =train_history)\n",
        "#plotting validation loss\n",
        "sns.lineplot(x='epoch', y ='val_loss', data =train_history)\n",
        "#adding legends\n",
        "plt.legend(labels=['train_loss', 'val_loss'])\n",
        "plt.title('Training and Validation Loss Over Epochs')\n",
        "plt.show()\n",
        "\n",
        "#plotting training accuracy\n",
        "sns.lineplot(x='epoch', y ='accuracy', data =train_history)\n",
        "#Plot validation accuracy\n",
        "sns.lineplot(x='epoch', y ='val_accuracy', data =train_history)\n",
        "#adding legends\n",
        "plt.legend(labels=['train_accuracy', 'val_accuracy'])\n",
        "plt.title('Training and Validation Accuracy Over Epochs')\n",
        "plt.show()"
      ],
      "metadata": {
        "colab": {
          "base_uri": "https://localhost:8080/",
          "height": 573
        },
        "id": "sSJX09o3xl2M",
        "outputId": "25b6b019-ebc2-426d-f426-c05b92325b03"
      },
      "execution_count": 21,
      "outputs": [
        {
          "output_type": "display_data",
          "data": {
            "text/plain": [
              "<Figure size 432x288 with 1 Axes>"
            ],
            "image/png": "[encoded data removed]"
          },
          "metadata": {
            "needs_background": "light"
          }
        },
        {
          "output_type": "display_data",
          "data": {
            "text/plain": [
              "<Figure size 432x288 with 1 Axes>"
            ],
            "image/png": "[encoded data removed]"
          },
          "metadata": {
            "needs_background": "light"
          }
        }
      ]
    },
    {
      "cell_type": "markdown",
      "source": [
        "Looking at the graphs, we can see that model has low training and validation losses, and high training and validation accuracies. It appears that the model is performing well, but let's also evaluate the model on the test dataset. We will do so by forecasting the Recommended IND labels, and then creating a confusion matrix and classification report."
      ],
      "metadata": {
        "id": "aRUngfYyyPKM"
      }
    },
    {
      "cell_type": "code",
      "source": [
        "#importing libraries\n",
        "from sklearn.metrics import classification_report\n",
        "from sklearn.metrics import confusion_matrix\n",
        "\n",
        "\n",
        "#the cutoff probability is 50%\n",
        "y_pred = (model.predict(X_test)> 0.5).astype(int)\n",
        "\n",
        "#creating confusion matrix\n",
        "print(confusion_matrix(y_test, y_pred))\n",
        "\n",
        "#forecasting the Recommended IND labels\n",
        "#we need to convert 0 and 1 back to words so that 0 = Not Recommended and 1 = Recommended for easier readability\n",
        "#printing a classification report\n",
        "label_names = ['Not Recommended', 'Recommended']\n",
        "print(classification_report(y_test, y_pred, target_names=label_names))"
      ],
      "metadata": {
        "colab": {
          "base_uri": "https://localhost:8080/"
        },
        "id": "Xb0Ao-u_FyBn",
        "outputId": "afe48af2-e780-4a90-8cd9-fce150da6cd1"
      },
      "execution_count": 27,
      "outputs": [
        {
          "output_type": "stream",
          "name": "stdout",
          "text": [
            "147/147 [==============================] - 49s 332ms/step\n",
            "[[ 658  177]\n",
            " [ 268 3595]]\n",
            "                 precision    recall  f1-score   support\n",
            "\n",
            "Not Recommended       0.71      0.79      0.75       835\n",
            "    Recommended       0.95      0.93      0.94      3863\n",
            "\n",
            "       accuracy                           0.91      4698\n",
            "      macro avg       0.83      0.86      0.84      4698\n",
            "   weighted avg       0.91      0.91      0.91      4698\n",
            "\n"
          ]
        }
      ]
    },
    {
      "cell_type": "markdown",
      "source": [
        "The classification report shows that the model is better at classifying \"Not Recommended\" (f1-score=0.75) than \"Recommended\" (f1-score=0.94). The model's accuracy is over 80%. Overall, it is a decent model, so we would recommend it to the e-commerce company; however, it could be improved so that it's better at classifying \"Not Recommended\" labels. "
      ],
      "metadata": {
        "id": "eJKAHeYv1DN_"
      }
    }
  ]
}